{
 "cells": [
  {
   "cell_type": "markdown",
   "metadata": {
    "colab_type": "text",
    "id": "7UPuGrk4_0MJ"
   },
   "source": [
    "### __Задача 1__:    \n",
    "Напишите два поисковика на *BM25*. Один через подсчет метрики по формуле для каждой пары слово-документ, второй через умножение матрицы на вектор. \n",
    "\n",
    "Сравните время работы поиска на 100к запросах. В качестве корпуса возьмем \n",
    "[Quora question pairs](https://www.kaggle.com/loopdigga/quora-question-pairs-russian)."
   ]
  },
  {
   "cell_type": "code",
   "execution_count": 1,
   "metadata": {
    "colab": {},
    "colab_type": "code",
    "id": "hS2Rttiw_0ML",
    "outputId": "8d016eda-01cf-4a93-ca6c-cf99e08963f5"
   },
   "outputs": [
    {
     "name": "stderr",
     "output_type": "stream",
     "text": [
      "[nltk_data] Downloading package stopwords to\n",
      "[nltk_data]     C:\\Users\\Maria\\AppData\\Roaming\\nltk_data...\n",
      "[nltk_data]   Package stopwords is already up-to-date!\n"
     ]
    }
   ],
   "source": [
    "import pandas as pd\n",
    "from sklearn.feature_extraction.text import CountVectorizer\n",
    "import re\n",
    "import numpy as np\n",
    "from math import log\n",
    "import random\n",
    "import csv\n",
    "\n",
    "import nltk \n",
    "from nltk.text import Text \n",
    "import pymorphy2 as pm2 \n",
    "pmm = pm2.MorphAnalyzer() \n",
    "\n",
    "nltk.download(\"stopwords\") \n",
    "from nltk.corpus import stopwords \n",
    "russian_stopwords = stopwords.words(\"russian\")"
   ]
  },
  {
   "cell_type": "code",
   "execution_count": 12,
   "metadata": {
    "colab": {},
    "colab_type": "code",
    "id": "qPG86ggw_0MR"
   },
   "outputs": [],
   "source": [
    "with open('quora_question_pairs_rus.csv', 'r', encoding = 'utf-8') as f:  \n",
    "    spamreader = csv.reader(f)\n",
    "    all_data = [row[1:] for row in spamreader][1:]\n",
    "    corpus = [row[1] for row in all_data]"
   ]
  },
  {
   "cell_type": "code",
   "execution_count": 13,
   "metadata": {
    "colab": {},
    "colab_type": "code",
    "id": "w3K5eP8i_0MT"
   },
   "outputs": [],
   "source": [
    "k = 2.0\n",
    "b = 0.75\n",
    "lengths = [len(doc) for doc in corpus]\n",
    "avgdl = sum(lengths)/len(lengths)\n",
    "N = len(corpus)"
   ]
  },
  {
   "cell_type": "code",
   "execution_count": 14,
   "metadata": {
    "colab": {},
    "colab_type": "code",
    "id": "OSLhKqOn_0MW"
   },
   "outputs": [],
   "source": [
    "def q_score(q, N, doc, len_doc):        #подсчёт score отдельного слова\n",
    "    n = np.count_nonzero(tf_matrix[q])\n",
    "    tf = len(re.findall(' '+q+' ', doc))\n",
    "    idf = IDF(N, n)\n",
    "    score = idf*((tf*(k+1))/(tf+k*(1-b+b*len_doc/avgdl)))\n",
    "    return score\n",
    "    \n",
    "def bm25(query, doc) -> float:   #query подать уже нормализованную))\n",
    "    doc_contents = doc.split(' ')\n",
    "    len_doc = len(doc_contents)\n",
    "    scores = []\n",
    "    for q in query:\n",
    "        try:\n",
    "            scores.append(q_score(q, N, doc, len_doc))\n",
    "        except KeyError:\n",
    "            scores.append(0)\n",
    "    return sum(scores)\n",
    "\n",
    "def IDF(N, n):   # qi - одно слово из запроса\n",
    "    idf = log((N-n+0.5)/(n+0.5))\n",
    "    return idf"
   ]
  },
  {
   "cell_type": "code",
   "execution_count": 15,
   "metadata": {
    "colab": {},
    "colab_type": "code",
    "id": "MylTwP9b_0MZ"
   },
   "outputs": [],
   "source": [
    "def preprocess_query(raw_query):\n",
    "    normalized = [pmm.normal_forms(x)[0] for x in raw_query.split() if x not in russian_stopwords]\n",
    "    return normalized"
   ]
  },
  {
   "cell_type": "markdown",
   "metadata": {
    "colab_type": "text",
    "id": "vwR63xOi_0Me"
   },
   "source": [
    "есть файл с заранее преобработанными данными, тут он открывается (на гитхаб выгружен зип архив с этим файлом)"
   ]
  },
  {
   "cell_type": "code",
   "execution_count": 16,
   "metadata": {
    "colab": {},
    "colab_type": "code",
    "id": "zA6WBLmz_0Mf"
   },
   "outputs": [],
   "source": [
    "with open('lemmatized.txt', 'r', encoding='utf-8') as f:\n",
    "    content = f.read()\n",
    "    preprocessed_docs = content.split('\\t')"
   ]
  },
  {
   "cell_type": "markdown",
   "metadata": {
    "colab_type": "text",
    "id": "5Iwmv6ae_0Ml"
   },
   "source": [
    "делаем матрицу, содержащую tf"
   ]
  },
  {
   "cell_type": "code",
   "execution_count": 17,
   "metadata": {
    "colab": {},
    "colab_type": "code",
    "id": "yQhP3xxq_0Mm"
   },
   "outputs": [],
   "source": [
    "from sklearn.feature_extraction.text import CountVectorizer\n",
    "vectorizer = CountVectorizer()\n",
    "X = vectorizer.fit_transform(preprocessed_docs[:1000])\n",
    "tf_matrix = pd.DataFrame(data=X.toarray(), columns=vectorizer.get_feature_names())"
   ]
  },
  {
   "cell_type": "markdown",
   "metadata": {
    "colab_type": "text",
    "id": "JN4AN07s_0Mp"
   },
   "source": [
    "делаем матрицу, содержащую bm25"
   ]
  },
  {
   "cell_type": "code",
   "execution_count": 23,
   "metadata": {
    "colab": {},
    "colab_type": "code",
    "id": "RfokKcoS_0Mw"
   },
   "outputs": [],
   "source": [
    "bm25_matrix = pd.DataFrame(columns=vectorizer.get_feature_names())\n",
    "for text in preprocessed_docs[:1000]:\n",
    "    to_m_scores = []\n",
    "    for item in vectorizer.get_feature_names():\n",
    "        if item in text.split():\n",
    "            len_doc = len(text.split())\n",
    "            to_m_scores.append(q_score(item, N, text, len_doc))\n",
    "        else:\n",
    "            to_m_scores.append(0)\n",
    "    bm25_matrix = bm25_matrix.append(pd.Series(to_m_scores, index=bm25_matrix.columns ), ignore_index=True)"
   ]
  },
  {
   "cell_type": "markdown",
   "metadata": {},
   "source": [
    "создаём запрос"
   ]
  },
  {
   "cell_type": "code",
   "execution_count": 62,
   "metadata": {
    "colab": {},
    "colab_type": "code",
    "id": "B9dd8pFj_0Mb"
   },
   "outputs": [],
   "source": [
    "def create_query(all_data):\n",
    "    for_queries = [row[0] for row in all_data[:1000]]\n",
    "    raw_query = random.choice(for_queries)\n",
    "    QUERY = preprocess_query(raw_query)\n",
    "    return QUERY"
   ]
  },
  {
   "cell_type": "markdown",
   "metadata": {
    "colab_type": "text",
    "id": "T7ZsTiIJ_0Ol"
   },
   "source": [
    "Способ 1, цикл"
   ]
  },
  {
   "cell_type": "code",
   "execution_count": 159,
   "metadata": {
    "colab": {},
    "colab_type": "code",
    "id": "7aYdVcdV_0Om",
    "outputId": "15d72495-8736-422e-af56-9cd6c8026c2e"
   },
   "outputs": [],
   "source": [
    "def process_one_query(QUERY, bm25_matrix):\n",
    "    search_results = {}\n",
    "    \n",
    "    for index, row in  bm25_matrix.iterrows():\n",
    "        document_score = []\n",
    "    \n",
    "        for word in QUERY:\n",
    "            if word in vectorizer.get_feature_names():\n",
    "                document_score.append(row[word])\n",
    "        \n",
    "        search_results[index] = sum(document_score)\n",
    "        \n",
    "    return search_results"
   ]
  },
  {
   "cell_type": "code",
   "execution_count": 87,
   "metadata": {
    "colab": {},
    "colab_type": "code",
    "id": "BqygmUdE_0Oo"
   },
   "outputs": [],
   "source": [
    "def sort_results(one_query_output):\n",
    "    results_sorted = sorted(one_query_output, key=one_query_output.get, reverse=True)\n",
    "    return results_sorted[:5]"
   ]
  },
  {
   "cell_type": "code",
   "execution_count": 160,
   "metadata": {},
   "outputs": [],
   "source": [
    "def loop_search(bm25_matrix, n_queries):\n",
    "    p1 = 0\n",
    "    \n",
    "    for i in range(n_queries):\n",
    "        QUERY = create_query(all_data)\n",
    "        #print(QUERY)\n",
    "    \n",
    "        one_query_output = process_one_query(QUERY, bm25_matrix)\n",
    "        output_sorted = sort_results(one_query_output)\n",
    "    \n",
    "        for m in output_sorted:\n",
    "            #print(all_data[m][1])\n",
    "            if all_data[m][2] == '1':\n",
    "                p1 += 1\n",
    "        \n",
    "    print('\\n\\nТочность поиска: ', p1/(n_queries*5))\n",
    "    "
   ]
  },
  {
   "cell_type": "code",
   "execution_count": 162,
   "metadata": {},
   "outputs": [
    {
     "name": "stdout",
     "output_type": "stream",
     "text": [
      "\n",
      "\n",
      "Точность поиска:  0.34\n",
      "Wall time: 2min 6s\n"
     ]
    }
   ],
   "source": [
    "%%time \n",
    "loop_search(bm25_matrix, 10)"
   ]
  },
  {
   "cell_type": "markdown",
   "metadata": {},
   "source": [
    "Способ 2, матрица*вектор"
   ]
  },
  {
   "cell_type": "code",
   "execution_count": 94,
   "metadata": {},
   "outputs": [],
   "source": [
    "def query_to_vector(QUERY):\n",
    "    vector = [0] * len(vectorizer.get_feature_names())\n",
    "    for i, word in enumerate(vectorizer.get_feature_names()):\n",
    "        if word in QUERY:\n",
    "            vector[i] = 1\n",
    "    return vector"
   ]
  },
  {
   "cell_type": "code",
   "execution_count": 152,
   "metadata": {
    "colab": {},
    "colab_type": "code",
    "id": "Uh2wRqMx_0O0"
   },
   "outputs": [],
   "source": [
    "def matrix_search(n_queries, bm25_matrix):\n",
    "    p2 = 0\n",
    "    \n",
    "    for i in range(n_queries):\n",
    "        QUERY = create_query(all_data)\n",
    "        vector = query_to_vector(QUERY)\n",
    "        #print('ЗАПРОС       ', QUERY)\n",
    "    \n",
    "        result_array = np.dot(bm25_matrix, vector)\n",
    "        sorted_result_array = sorted([(e,i) for i,e in enumerate(result_array)], reverse = True)\n",
    "    \n",
    "        for item in list(sorted_result_array[:5]):\n",
    "            #print(all_data[item[1]][1])\n",
    "            if all_data[item[1]][2] == '1':\n",
    "                p2 += 1\n",
    "            \n",
    "    print ('\\n\\nТочность поиска: ', p2/(n_queries*5))\n",
    "    "
   ]
  },
  {
   "cell_type": "code",
   "execution_count": 153,
   "metadata": {},
   "outputs": [
    {
     "name": "stdout",
     "output_type": "stream",
     "text": [
      "\n",
      "\n",
      "Точность поиска:  0.38\n",
      "Wall time: 125 ms\n"
     ]
    }
   ],
   "source": [
    "%%time\n",
    "matrix_search(10, bm25_matrix)"
   ]
  },
  {
   "cell_type": "markdown",
   "metadata": {
    "colab_type": "text",
    "id": "zMzPxtkj_0Ow"
   },
   "source": [
    "### __Задача 2__:    \n"
   ]
  },
  {
   "cell_type": "markdown",
   "metadata": {
    "colab_type": "text",
    "id": "Ymh6C-hG_0Oy"
   },
   "source": [
    "Выведите 10 первых результатов и их близость по метрике BM25 по запросу **рождественские каникулы** на нашем корпусе  Quora question pairs. "
   ]
  },
  {
   "cell_type": "code",
   "execution_count": 131,
   "metadata": {
    "colab": {},
    "colab_type": "code",
    "id": "itFBKZM-_0O4",
    "outputId": "64126c6f-85b9-4d32-d951-435e2c72bd42"
   },
   "outputs": [],
   "source": [
    "raw_query_christmas = 'рождественские каникулы'\n",
    "query_christmas = preprocess_query(raw_query_christmas)"
   ]
  },
  {
   "cell_type": "markdown",
   "metadata": {},
   "source": [
    "с помощью матрицы*вектор"
   ]
  },
  {
   "cell_type": "code",
   "execution_count": 133,
   "metadata": {},
   "outputs": [
    {
     "name": "stdout",
     "output_type": "stream",
     "text": [
      "каков наилучший способ начать робототехнику, которая является лучшей платой развития, на которой я могу начать работать над ней 35.49045999647447\n",
      "какие из лучших оплачиваемых рабочих мест, которые можно сделать из дома 32.383849208625016\n",
      "как тринадцать лет, что самое лучшее, что я могу сделать для своего здоровья 31.31617743537609\n",
      "почему люди, которые сделали магистерские степени в любой области, советуют вам не делать мастер 30.599360849153697\n",
      "я девушка, и я люблю своего лучшего друга, который тоже девушка, что я должен делать 29.323997633009164\n",
      "Я девушка в средней школе, мои лучшие друзья - это все девушки, которых я узнал, что я бисексуал, как я могу сказать своему лучшему другу, что девушка без нее волнуется, и это меняет всю нашу дружбу 29.187074397300727\n",
      "какие хаки в повседневной жизни 23.847245961202173\n",
      "что я могу сделать, когда мне 18 лет 18.040877830538786\n",
      "3d rad: как я могу сделать миссию 18.040877830538786\n",
      "что я могу сделать, чтобы не ревновать кого-то 18.040877830538786\n"
     ]
    }
   ],
   "source": [
    "vector_christmas = query_to_vector(query_christmas)\n",
    "\n",
    "result_array_christmas  = np.dot(bm25_matrix, vector)\n",
    "sorted_result_array_christmas  = sorted([(e,i) for i,e in enumerate(result_array_christmas)], reverse = True)\n",
    "    \n",
    "for item in list(sorted_result_array_christmas[:10]):\n",
    "    print(all_data[item[1]][1], item[0])"
   ]
  },
  {
   "cell_type": "markdown",
   "metadata": {},
   "source": [
    "обычный способ"
   ]
  },
  {
   "cell_type": "code",
   "execution_count": 136,
   "metadata": {},
   "outputs": [
    {
     "name": "stdout",
     "output_type": "stream",
     "text": [
      "что произойдет, если правительство Индии украдет кохинор кох-и-ноор-алмаз назад 0\n",
      "как повысить скорость интернета путем взлома через dns 0\n",
      "найти остаток, когда математика 23 ^ 24 математика разделена на 24 23 0\n",
      "какая рыба выживет в соленой воде 0\n",
      "Я тройная луна-козерог и восхождение в козероге, что это говорит обо мне 0\n"
     ]
    }
   ],
   "source": [
    "one_query_christmas_output = process_one_query(query_christmas)\n",
    "#print(one_query_christmas_output)\n",
    "output_christmas_sorted = sort_results(one_query_christmas_output)\n",
    "\n",
    "\n",
    "for m in output_christmas_sorted:\n",
    "    print(all_data[m][1], one_query_christmas_output[m])"
   ]
  },
  {
   "cell_type": "markdown",
   "metadata": {
    "colab_type": "text",
    "id": "TyonkeJ2_0O6"
   },
   "source": [
    "### __Задача 3__:    \n",
    "\n",
    "Посчитайте точность поиска при \n",
    "1. BM25, b=0.75 \n",
    "2. BM15, b=0 \n",
    "3. BM11, b=1"
   ]
  },
  {
   "cell_type": "code",
   "execution_count": 142,
   "metadata": {
    "colab": {},
    "colab_type": "code",
    "id": "eufuuVWF_0O7"
   },
   "outputs": [],
   "source": [
    "b15 = 0\n",
    "b11 = 1"
   ]
  },
  {
   "cell_type": "code",
   "execution_count": 144,
   "metadata": {
    "colab": {},
    "colab_type": "code",
    "id": "GsWQJVJy_0O9"
   },
   "outputs": [],
   "source": [
    "def q_score_b(q, N, doc, len_doc, b):        #подсчёт score отдельного слова\n",
    "    n = np.count_nonzero(tf_matrix[q])\n",
    "    tf = len(re.findall(' '+q+' ', doc))\n",
    "    idf = IDF(N, n)\n",
    "    score = idf*((tf*(k+1))/(tf+k*(1-b+b*len_doc/avgdl)))\n",
    "    return score\n",
    "\n",
    "def bm25_b(query, doc, b) -> float:   #query подать уже нормализованную))\n",
    "    doc_contents = doc.split(' ')\n",
    "    len_doc = len(doc_contents)\n",
    "    scores = []\n",
    "    for q in query:\n",
    "        try:\n",
    "            scores.append(q_score_b(q, N, doc, len_doc, b))\n",
    "        except KeyError:\n",
    "            scores.append(0)\n",
    "    return sum(scores)\n"
   ]
  },
  {
   "cell_type": "markdown",
   "metadata": {},
   "source": [
    "делаем новые матрицы с новыми переменными"
   ]
  },
  {
   "cell_type": "code",
   "execution_count": 145,
   "metadata": {},
   "outputs": [],
   "source": [
    "bm15_matrix = pd.DataFrame(columns=vectorizer.get_feature_names())\n",
    "for text in preprocessed_docs[:1000]:\n",
    "    to_new_m_scores = []\n",
    "    for item in vectorizer.get_feature_names():\n",
    "        if item in text.split():\n",
    "            len_doc = len(text.split())\n",
    "            to_new_m_scores.append(q_score_b(item, N, text, len_doc, b15))\n",
    "        else:\n",
    "            to_new_m_scores.append(0)\n",
    "    bm15_matrix = bm15_matrix.append(pd.Series(to_new_m_scores, index=bm15_matrix.columns ), ignore_index=True)"
   ]
  },
  {
   "cell_type": "code",
   "execution_count": 155,
   "metadata": {},
   "outputs": [],
   "source": [
    "bm11_matrix = pd.DataFrame(columns=vectorizer.get_feature_names())\n",
    "for text in preprocessed_docs[:1000]:\n",
    "    to_new1_m_scores = []\n",
    "    for item in vectorizer.get_feature_names():\n",
    "        if item in text.split():\n",
    "            len_doc = len(text.split())\n",
    "            to_new1_m_scores.append(q_score_b(item, N, text, len_doc, b11))\n",
    "        else:\n",
    "            to_new1_m_scores.append(0)\n",
    "    bm11_matrix = bm11_matrix.append(pd.Series(to_new1_m_scores, index=bm11_matrix.columns ), ignore_index=True)"
   ]
  },
  {
   "cell_type": "markdown",
   "metadata": {},
   "source": [
    "способ поиска матрица*вектор"
   ]
  },
  {
   "cell_type": "code",
   "execution_count": 154,
   "metadata": {},
   "outputs": [
    {
     "name": "stdout",
     "output_type": "stream",
     "text": [
      "\n",
      "\n",
      "Точность поиска:  0.2\n"
     ]
    }
   ],
   "source": [
    "matrix_search(10, bm15_matrix)"
   ]
  },
  {
   "cell_type": "code",
   "execution_count": 156,
   "metadata": {},
   "outputs": [
    {
     "name": "stdout",
     "output_type": "stream",
     "text": [
      "\n",
      "\n",
      "Точность поиска:  0.3\n"
     ]
    }
   ],
   "source": [
    "matrix_search(10, bm11_matrix)"
   ]
  },
  {
   "cell_type": "markdown",
   "metadata": {
    "colab": {},
    "colab_type": "code",
    "id": "ZHD6L6Aa_0PK"
   },
   "source": [
    "а точность поиска с b = 0.75 видно выше, в задании 1 :)"
   ]
  }
 ],
 "metadata": {
  "colab": {
   "collapsed_sections": [],
   "name": "bm_25_loop.ipynb",
   "provenance": []
  },
  "kernelspec": {
   "display_name": "Python 3",
   "language": "python",
   "name": "python3"
  },
  "language_info": {
   "codemirror_mode": {
    "name": "ipython",
    "version": 3
   },
   "file_extension": ".py",
   "mimetype": "text/x-python",
   "name": "python",
   "nbconvert_exporter": "python",
   "pygments_lexer": "ipython3",
   "version": "3.7.2"
  }
 },
 "nbformat": 4,
 "nbformat_minor": 1
}
