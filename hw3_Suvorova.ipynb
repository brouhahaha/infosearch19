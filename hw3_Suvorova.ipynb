{
  "nbformat": 4,
  "nbformat_minor": 0,
  "metadata": {
    "kernelspec": {
      "display_name": "Python 3",
      "language": "python",
      "name": "python3"
    },
    "language_info": {
      "codemirror_mode": {
        "name": "ipython",
        "version": 3
      },
      "file_extension": ".py",
      "mimetype": "text/x-python",
      "name": "python",
      "nbconvert_exporter": "python",
      "pygments_lexer": "ipython3",
      "version": "3.7.2"
    },
    "colab": {
      "name": "sem3_semantics.ipynb",
      "provenance": [],
      "collapsed_sections": []
    }
  },
  "cells": [
    {
      "cell_type": "code",
      "metadata": {
        "id": "cQ77k1uNio7M",
        "colab_type": "code",
        "outputId": "4fc8bf27-4ea2-44be-db9c-dbf1016bcae3",
        "colab": {
          "base_uri": "https://localhost:8080/",
          "height": 51
        }
      },
      "source": [
        "import gensim\n",
        "import pandas as pd\n",
        "import numpy as np\n",
        "import csv\n",
        "import random\n",
        "import sklearn\n",
        "\n",
        "import nltk \n",
        "from nltk.text import Text \n",
        "import pymorphy2 as pm2 \n",
        "pmm = pm2.MorphAnalyzer()\n",
        "\n",
        "nltk.download(\"stopwords\") \n",
        "from nltk.corpus import stopwords \n",
        "russian_stopwords = stopwords.words(\"russian\")"
      ],
      "execution_count": 0,
      "outputs": [
        {
          "output_type": "stream",
          "text": [
            "[nltk_data] Downloading package stopwords to /root/nltk_data...\n",
            "[nltk_data]   Package stopwords is already up-to-date!\n"
          ],
          "name": "stdout"
        }
      ]
    },
    {
      "cell_type": "code",
      "metadata": {
        "id": "FAmpgp99hgbP",
        "colab_type": "code",
        "outputId": "d946851e-e333-47c2-dbc9-f4eade5d3e4e",
        "colab": {
          "base_uri": "https://localhost:8080/",
          "height": 51
        }
      },
      "source": [
        "%load_ext autoreload\n",
        "\n",
        "from gensim.models import Word2Vec, KeyedVectors"
      ],
      "execution_count": 0,
      "outputs": [
        {
          "output_type": "stream",
          "text": [
            "The autoreload extension is already loaded. To reload it, use:\n",
            "  %reload_ext autoreload\n"
          ],
          "name": "stdout"
        }
      ]
    },
    {
      "cell_type": "code",
      "metadata": {
        "id": "mkEmVP22h2pP",
        "colab_type": "code",
        "outputId": "39ab532b-9df2-431b-ebc7-fb2176349d11",
        "colab": {
          "base_uri": "https://localhost:8080/",
          "height": 34
        }
      },
      "source": [
        "from google.colab import drive                  \n",
        "drive.mount('/content/gdrive')"
      ],
      "execution_count": 0,
      "outputs": [
        {
          "output_type": "stream",
          "text": [
            "Mounted at /content/gdrive\n"
          ],
          "name": "stdout"
        }
      ]
    },
    {
      "cell_type": "markdown",
      "metadata": {
        "id": "y3VOZPaDhgbY",
        "colab_type": "text"
      },
      "source": [
        "## word2vec + fasttext"
      ]
    },
    {
      "cell_type": "markdown",
      "metadata": {
        "id": "GX10VOcfhgba",
        "colab_type": "text"
      },
      "source": [
        "загрузка модели"
      ]
    },
    {
      "cell_type": "code",
      "metadata": {
        "id": "zxSe2Yl2hgbe",
        "colab_type": "code",
        "colab": {}
      },
      "source": [
        "# если модель без тэгов\n",
        "#model_file = '../data/araneum_none_fasttextcbow_300_5_2018/araneum_none_fasttextcbow_300_5_2018.model'\n",
        "\n",
        "# model = Word2Vec.load(model_path)"
      ],
      "execution_count": 0,
      "outputs": []
    },
    {
      "cell_type": "code",
      "metadata": {
        "id": "wkn7RsCShgb0",
        "colab_type": "code",
        "colab": {}
      },
      "source": [
        "# если модель с POS-тэггингом\n",
        "model_file = '../data/tayga.vec'\n",
        "\n",
        "model = KeyedVectors.load_word2vec_format(model_file, binary=False)"
      ],
      "execution_count": 0,
      "outputs": []
    },
    {
      "cell_type": "markdown",
      "metadata": {
        "id": "ry2xr5xphgcZ",
        "colab_type": "text"
      },
      "source": [
        "проверка наличия слова в словаре"
      ]
    },
    {
      "cell_type": "code",
      "metadata": {
        "id": "mB0KKjlohgcp",
        "colab_type": "code",
        "colab": {}
      },
      "source": [
        "lemma = 'черепаха_NOUN'\n"
      ],
      "execution_count": 0,
      "outputs": []
    },
    {
      "cell_type": "markdown",
      "metadata": {
        "id": "EtK-dW-dhgc5",
        "colab_type": "text"
      },
      "source": [
        "получение вектора слова"
      ]
    },
    {
      "cell_type": "code",
      "metadata": {
        "scrolled": true,
        "id": "7h2tuehbhgc8",
        "colab_type": "code",
        "outputId": "03377c87-b89c-4c9f-e063-4b2a7df3edbc",
        "colab": {
          "base_uri": "https://localhost:8080/",
          "height": 1000
        }
      },
      "source": [
        "model['черепаха']"
      ],
      "execution_count": 0,
      "outputs": [
        {
          "output_type": "execute_result",
          "data": {
            "text/plain": [
              "array([ 0.38691303, -0.01353064,  0.47982895,  0.24796614, -0.4995282 ,\n",
              "       -0.07663023,  0.06268613,  0.3079075 ,  0.22344151,  0.20854878,\n",
              "       -0.14401978, -0.34113285,  0.10848983, -0.41619024,  0.10033557,\n",
              "        0.85966784, -0.13698106, -0.1241506 ,  0.06038719,  0.02368295,\n",
              "       -0.16367738,  0.19001935, -0.1611998 , -0.25262153, -0.23922259,\n",
              "        0.17140332,  0.05625665,  0.42271674,  0.26669613,  0.19677134,\n",
              "        0.24412721, -0.21821369,  0.12846738, -0.06482669, -0.355308  ,\n",
              "       -0.01725022,  0.00687153,  0.23292094,  0.43628576,  0.02504337,\n",
              "        0.27711275,  0.04836041, -0.04329239,  0.16770369,  0.10105432,\n",
              "       -0.11157424,  0.04214865,  0.14237887,  0.09776556, -0.00452495,\n",
              "        0.14176252,  0.21383609,  0.2522228 , -0.44199   , -0.27218285,\n",
              "        0.04738526, -0.31560647, -0.26865557, -0.01795514, -0.06383659,\n",
              "       -0.04156402,  0.03212297,  0.23206615,  0.02170166,  0.02386148,\n",
              "        0.43950433, -0.40797994,  0.13168378,  0.03637916,  0.04957951,\n",
              "        0.1582726 , -0.16054793, -0.2160766 ,  0.02367722,  0.04953769,\n",
              "        0.24881616, -0.08791402,  0.23419352, -0.18298502,  0.2351618 ,\n",
              "       -0.01604761, -0.31956705,  0.0240961 , -0.2803861 ,  0.32019356,\n",
              "       -0.04655439,  0.13506599,  0.2336894 , -0.14555359, -0.159647  ,\n",
              "       -0.12053656,  0.01043135,  0.23067516, -0.32882932, -0.19649814,\n",
              "        0.1904827 , -0.2019098 , -0.22445308,  0.23507446, -0.18011755,\n",
              "        0.24498592,  0.42457187, -0.03981422,  0.03715057, -0.03173072,\n",
              "        0.1736269 , -0.34466955, -0.09573876, -0.08856171, -0.33592072,\n",
              "        0.20086743,  0.3829417 , -0.04488302, -0.10233081,  0.05940653,\n",
              "       -0.5338429 ,  0.08314607,  0.04026878, -0.43777835, -0.00762254,\n",
              "        0.24238205,  0.07989233, -0.08779398, -0.21704441,  0.14201206,\n",
              "       -0.10974345,  0.13467556, -0.28646934,  0.02024634,  0.00459316,\n",
              "        0.07685896,  0.05792246,  0.02898072,  0.26923606, -0.3522043 ,\n",
              "       -0.01215144,  0.1297534 , -0.00098007, -0.08550788,  0.12941265,\n",
              "        0.22111234, -0.25870648,  0.27766296,  0.19135655,  0.21968146,\n",
              "       -0.14994381,  0.2801573 ,  0.09868231, -0.31289804, -0.07515524,\n",
              "        0.06613681,  0.17630704,  0.15978418,  0.4227084 ,  0.106558  ,\n",
              "       -0.13496834,  0.08517063, -0.13163036,  0.04064256, -0.02636378,\n",
              "        0.30549094, -0.0768122 ,  0.49112833,  0.07441337,  0.0772706 ,\n",
              "        0.07027199,  0.30616948,  0.18843278,  0.09890187,  0.18321772,\n",
              "        0.14802529,  0.2340333 ,  0.05112247, -0.2977206 , -0.24919768,\n",
              "        0.01688276,  0.0143701 , -0.03608119,  0.04516844,  0.16157508,\n",
              "       -0.12976132, -0.05049213, -0.040027  , -0.04210183,  0.08699813,\n",
              "       -0.09813363,  0.13632268,  0.2769497 , -0.21444918,  0.31837234,\n",
              "        0.4771087 , -0.08378684, -0.13412905,  0.00137648,  0.00411024,\n",
              "        0.06312143,  0.02194676,  0.12970275, -0.5010325 ,  0.15347728,\n",
              "       -0.15051936,  0.13855912,  0.2579924 ,  0.13934903,  0.03838194,\n",
              "        0.2847664 ,  0.22478594, -0.04992585, -0.26127267, -0.6125659 ,\n",
              "       -0.18118048,  0.23703185, -0.05513758, -0.18279204, -0.05333538,\n",
              "        0.13577418, -0.10467612,  0.15513419,  0.37387228,  0.11010788,\n",
              "        0.07772497,  0.26726496,  0.05955577, -0.00374648,  0.03632407,\n",
              "        0.00590583,  0.34927768,  0.10174873,  0.33008114, -0.18043485,\n",
              "       -0.06787941, -0.00784346, -0.32358333, -0.22238947,  0.04707038,\n",
              "       -0.16710576,  0.09221825, -0.06060334, -0.11572575,  0.2898431 ,\n",
              "        0.2104672 , -0.02600402,  0.2634312 ,  0.3146802 ,  0.13682498,\n",
              "        0.15060143, -0.10327664, -0.16430657, -0.15754749, -0.06629792,\n",
              "       -0.08044922, -0.06153458,  0.2679084 , -0.22947143,  0.06843135,\n",
              "        0.20279832,  0.14357023, -0.2819394 , -0.2085475 ,  0.10679048,\n",
              "        0.07196597, -0.22842886,  0.28981048, -0.03944273, -0.27111033,\n",
              "        0.02085297, -0.0754828 , -0.40019605,  0.09115557, -0.02681313,\n",
              "       -0.06570174,  0.27028936, -0.03270831,  0.05841074, -0.0875167 ,\n",
              "       -0.08437348,  0.19367398,  0.03551077, -0.00262223,  0.07537264,\n",
              "        0.11096413,  0.02849346,  0.21926098, -0.04105995,  0.09757888,\n",
              "        0.35290107, -0.04042108,  0.25399193,  0.00403109, -0.18887605,\n",
              "        0.10888501, -0.27865604, -0.08845543,  0.14252914, -0.2774702 ,\n",
              "       -0.3116813 ,  0.44457877, -0.09781203,  0.16137172,  0.3857589 ],\n",
              "      dtype=float32)"
            ]
          },
          "metadata": {
            "tags": []
          },
          "execution_count": 29
        }
      ]
    },
    {
      "cell_type": "code",
      "metadata": {
        "scrolled": true,
        "id": "O-tQ6JrEhgdM",
        "colab_type": "code",
        "colab": {}
      },
      "source": [
        "# model[lemma]"
      ],
      "execution_count": 0,
      "outputs": []
    },
    {
      "cell_type": "markdown",
      "metadata": {
        "id": "vxRNJsz8hgdW",
        "colab_type": "text"
      },
      "source": [
        "получение вектора документа"
      ]
    },
    {
      "cell_type": "code",
      "metadata": {
        "id": "V87rBXVEhgdY",
        "colab_type": "code",
        "outputId": "c3873959-f5f1-43d2-fa84-a50be6c70981",
        "colab": {}
      },
      "source": [
        "import numpy as np\n",
        "\n",
        "# сделали препроцессинг, получили леммы \n",
        "lemmas = ['старинный_ADJ', 'замок_NOUN']\n",
        "\n",
        "# создаем маски для векторов \n",
        "lemmas_vectors = np.zeros((len(lemmas), model.vector_size))\n",
        "vec = np.zeros((model.vector_size,))\n",
        "\n",
        "# если слово есть в модели, берем его вектор\n",
        "for idx, lemma in enumerate(lemmas):\n",
        "    if lemma in model.wv:\n",
        "        lemmas_vectors[idx] = model.wv[lemma]\n",
        "        \n",
        "# проверка на случай, если на вход пришел пустой массив\n",
        "if lemmas_vectors.shape[0] is not 0:\n",
        "    vec = np.mean(lemmas_vectors, axis=0)\n"
      ],
      "execution_count": 0,
      "outputs": [
        {
          "output_type": "stream",
          "text": [
            "/Library/Frameworks/Python.framework/Versions/3.6/lib/python3.6/site-packages/ipykernel_launcher.py:12: DeprecationWarning: Call to deprecated `wv` (Attribute will be removed in 4.0.0, use self instead).\n",
            "  if sys.path[0] == '':\n",
            "/Library/Frameworks/Python.framework/Versions/3.6/lib/python3.6/site-packages/ipykernel_launcher.py:13: DeprecationWarning: Call to deprecated `wv` (Attribute will be removed in 4.0.0, use self instead).\n",
            "  del sys.path[0]\n"
          ],
          "name": "stderr"
        }
      ]
    },
    {
      "cell_type": "code",
      "metadata": {
        "id": "693MFHHUhgde",
        "colab_type": "code",
        "colab": {}
      },
      "source": [
        ""
      ],
      "execution_count": 0,
      "outputs": []
    },
    {
      "cell_type": "markdown",
      "metadata": {
        "id": "DHaAU9_zhgdm",
        "colab_type": "text"
      },
      "source": [
        "## Задание"
      ]
    },
    {
      "cell_type": "markdown",
      "metadata": {
        "id": "uAZCmx3bhgdp",
        "colab_type": "text"
      },
      "source": [
        "Реализуйте поиск по [Quora question pairs](https://www.kaggle.com/loopdigga/quora-question-pairs-russian) на нескольких векторных моделях\n",
        "\n",
        "    1. fasttext, модель ruscorpora_none_fasttextskipgram_300_2_2019\n",
        "    2. elmo, модель ruwikiruscorpora_lemmas_elmo_1024_2019\n",
        "    3. bert*, RuBERT - необязательно\n",
        "   \n",
        "Первые две обученные модели можно скачать на сайте [rusvectores](https://rusvectores.org/en/models/).\n",
        "\n",
        "BERT делать необязательно, но если сделаете, 6 за курс у вас автоматом. Модель можно [найти тут](http://docs.deeppavlov.ai/en/master/features/models/bert.html)."
      ]
    },
    {
      "cell_type": "code",
      "metadata": {
        "id": "9aU_FLr7hgbp",
        "colab_type": "code",
        "outputId": "d812032a-3a06-4a37-a82e-c773f8dfc7c6",
        "colab": {
          "base_uri": "https://localhost:8080/",
          "height": 71
        }
      },
      "source": [
        "model_fasttext = KeyedVectors.load(\"/content/gdrive/My Drive/model.model\")"
      ],
      "execution_count": 0,
      "outputs": [
        {
          "output_type": "stream",
          "text": [
            "/usr/local/lib/python3.6/dist-packages/smart_open/smart_open_lib.py:398: UserWarning: This function is deprecated, use smart_open.open instead. See the migration notes for details: https://github.com/RaRe-Technologies/smart_open/blob/master/README.rst#migrating-to-the-new-open-function\n",
            "  'See the migration notes for details: %s' % _MIGRATION_NOTES_URL\n"
          ],
          "name": "stderr"
        }
      ]
    },
    {
      "cell_type": "code",
      "metadata": {
        "id": "nngv7mnwaQE7",
        "colab_type": "code",
        "colab": {}
      },
      "source": [
        "with open('/content/gdrive/My Drive/quora_question_pairs_rus.csv', 'r', encoding = 'utf-8') as f:  \n",
        "    spamreader = csv.reader(f)\n",
        "    all_data = [row[1:] for row in spamreader][1:]\n",
        "    corpus = [row[1] for row in all_data]"
      ],
      "execution_count": 0,
      "outputs": []
    },
    {
      "cell_type": "code",
      "metadata": {
        "id": "Mk1Aid1cU70h",
        "colab_type": "code",
        "colab": {}
      },
      "source": [
        "with open('/content/gdrive/My Drive/lemmatized.txt', 'r', encoding='utf-8') as f:\n",
        "    content = f.read()\n",
        "    preprocessed_docs = content.split('\\t')"
      ],
      "execution_count": 0,
      "outputs": []
    },
    {
      "cell_type": "code",
      "metadata": {
        "id": "HKMrfo-iVkPV",
        "colab_type": "code",
        "colab": {}
      },
      "source": [
        "docs_lists = [doc.split() for doc in preprocessed_docs]"
      ],
      "execution_count": 0,
      "outputs": []
    },
    {
      "cell_type": "code",
      "metadata": {
        "id": "GqgwMfzfYGFd",
        "colab_type": "code",
        "colab": {}
      },
      "source": [
        "def create_query(all_data):\n",
        "    for_queries = [row[0] for row in all_data[:20]]\n",
        "    raw_query = random.choice(for_queries)\n",
        "    QUERY = preprocess_query(raw_query)\n",
        "    return QUERY"
      ],
      "execution_count": 0,
      "outputs": []
    },
    {
      "cell_type": "code",
      "metadata": {
        "id": "qAApgWoQbFMe",
        "colab_type": "code",
        "colab": {}
      },
      "source": [
        "def preprocess_query(raw_query):\n",
        "    normalized = [pmm.normal_forms(x)[0] for x in raw_query.split() if x not in russian_stopwords]\n",
        "    return normalized"
      ],
      "execution_count": 0,
      "outputs": []
    },
    {
      "cell_type": "markdown",
      "metadata": {
        "id": "uAPIbAdChgdq",
        "colab_type": "text"
      },
      "source": [
        "### __Задача 1__:    \n",
        "Сравните время индексации корпуса для каждой модели "
      ]
    },
    {
      "cell_type": "code",
      "metadata": {
        "id": "sRm55sjHWPkz",
        "colab_type": "code",
        "outputId": "f52647e2-f66e-4190-8671-e25940969869",
        "colab": {
          "base_uri": "https://localhost:8080/",
          "height": 51
        }
      },
      "source": [
        "%%time\n",
        "\n",
        "fasttext_matrix = pd.DataFrame(columns = [i for i in range(300)])\n",
        "for document in docs_lists[:20]:\n",
        "  vecs_by_words = [model_fasttext[word] for word in document if word in model_fasttext.vocab]\n",
        "  doc_vec = np.mean(vecs_by_words, axis = 0)\n",
        "  fasttext_matrix = fasttext_matrix.append(pd.Series(doc_vec, index=fasttext_matrix.columns ), ignore_index=True)"
      ],
      "execution_count": 0,
      "outputs": [
        {
          "output_type": "stream",
          "text": [
            "CPU times: user 56.6 ms, sys: 0 ns, total: 56.6 ms\n",
            "Wall time: 59 ms\n"
          ],
          "name": "stdout"
        }
      ]
    },
    {
      "cell_type": "markdown",
      "metadata": {
        "id": "uSL-C-fXhgds",
        "colab_type": "text"
      },
      "source": [
        "### __Задача 2__:    \n",
        "Выведите качество поиска для каждой модели +  BM25 для сравнения\n",
        "\n",
        "Качество оцениваем так же, как в прошлом задании:\n",
        "    - если в топ-5 результатов выдачи попал хоть один релевантный документ, выдача точная\n",
        "    - если в топ-5 нет ни одного релеватного документа, выдача получает 0\n",
        "   "
      ]
    },
    {
      "cell_type": "code",
      "metadata": {
        "id": "qHyvzx6vhgdu",
        "colab_type": "code",
        "colab": {}
      },
      "source": [
        "QUERY = create_query(all_data)"
      ],
      "execution_count": 0,
      "outputs": []
    },
    {
      "cell_type": "code",
      "metadata": {
        "id": "2p2RkII9ijk3",
        "colab_type": "code",
        "outputId": "d179d5d0-8317-4727-9549-9dff2f55ea0f",
        "colab": {
          "base_uri": "https://localhost:8080/",
          "height": 153
        }
      },
      "source": [
        "QUERY"
      ],
      "execution_count": 0,
      "outputs": [
        {
          "output_type": "execute_result",
          "data": {
            "text/plain": [
              "['означать',\n",
              " 'президентство',\n",
              " 'козырь',\n",
              " 'нынешний',\n",
              " 'иностранный',\n",
              " 'студент-магистр',\n",
              " 'визе',\n",
              " 'f1']"
            ]
          },
          "metadata": {
            "tags": []
          },
          "execution_count": 124
        }
      ]
    },
    {
      "cell_type": "code",
      "metadata": {
        "id": "9STPvMe8cn-A",
        "colab_type": "code",
        "colab": {}
      },
      "source": [
        "query_words_vecs = [model_fasttext[word] for word in QUERY if word in model_fasttext.vocab]\n",
        "QUERY_vec = np.mean(query_words_vecs, axis = 0)"
      ],
      "execution_count": 0,
      "outputs": []
    },
    {
      "cell_type": "code",
      "metadata": {
        "id": "VP6jJQqpfE7b",
        "colab_type": "code",
        "colab": {}
      },
      "source": [
        "QUERY_vec = QUERY_vec.reshape(1, -1)"
      ],
      "execution_count": 0,
      "outputs": []
    },
    {
      "cell_type": "code",
      "metadata": {
        "id": "o9EXKUr9hBob",
        "colab_type": "code",
        "colab": {}
      },
      "source": [
        "cosine_fasttext_scores = []\n",
        "\n",
        "for i in range(fasttext_matrix.shape[0]):\n",
        "  docvec = np.array(fasttext_matrix.iloc[i]).reshape(1, -1)\n",
        "  similarity = sklearn.metrics.pairwise.cosine_similarity(QUERY_vec, docvec)\n",
        "  cosine_fasttext_scores.append(similarity[0][0])"
      ],
      "execution_count": 0,
      "outputs": []
    },
    {
      "cell_type": "code",
      "metadata": {
        "id": "YdNmplePdGOu",
        "colab_type": "code",
        "outputId": "138a072d-4cd7-4293-998f-87c97640e554",
        "colab": {
          "base_uri": "https://localhost:8080/",
          "height": 102
        }
      },
      "source": [
        "cosine_fasttext_scores_sorted = sorted([(e,i) for i,e in enumerate(cosine_fasttext_scores)], reverse = True)\n",
        "  \n",
        "for item in list(cosine_fasttext_scores_sorted[:5]):\n",
        "  print(all_data[item[1]][1], item[0], all_data[item[1]][2])   #посчитать точность по последней цифре тут"
      ],
      "execution_count": 0,
      "outputs": [
        {
          "output_type": "stream",
          "text": [
            "как президентство козыря повлияет на учеников в настоящее время в нас или планирует учиться у нас 0.73189545 1\n",
            "каковы законы об изменении вашего статуса от студенческой визы до зеленой карты в нас, как они сравниваются с иммиграционными законами в Японии 0.66927856 0\n",
            "который является лучшим институтом цифрового маркетинга в Пуне 0.6469707 0\n",
            "что произойдет, если правительство Индии украдет кохинор кох-и-ноор-алмаз назад 0.6389768 0\n",
            "что некоторые технические специалисты могут рассказать о долговечности и надежности ноутбуков и их компонентов 0.6140229 0\n"
          ],
          "name": "stdout"
        }
      ]
    }
  ]
}